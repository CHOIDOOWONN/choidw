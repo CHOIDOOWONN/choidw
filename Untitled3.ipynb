{
  "nbformat": 4,
  "nbformat_minor": 0,
  "metadata": {
    "colab": {
      "name": "Untitled3.ipynb",
      "provenance": [],
      "collapsed_sections": [],
      "authorship_tag": "ABX9TyPRQkP1v/T/d2szNZ1aWfVb",
      "include_colab_link": true
    },
    "kernelspec": {
      "name": "python3",
      "display_name": "Python 3"
    }
  },
  "cells": [
    {
      "cell_type": "markdown",
      "metadata": {
        "id": "view-in-github",
        "colab_type": "text"
      },
      "source": [
        "<a href=\"https://colab.research.google.com/github/CHOIDOOWONN/choidw/blob/main/Untitled3.ipynb\" target=\"_parent\"><img src=\"https://colab.research.google.com/assets/colab-badge.svg\" alt=\"Open In Colab\"/></a>"
      ]
    },
    {
      "cell_type": "code",
      "metadata": {
        "id": "Ym0O4WulWl_Z"
      },
      "source": [
        "import tensorflow as tf \r\n",
        "import numpy as np \r\n",
        "import matplotlib.pyplot as plt \r\n",
        "import pandas as pd \r\n",
        "import seaborn as sns\r\n",
        "import os\r\n",
        "from sklearn.model_selection import train_test_split\r\n"
      ],
      "execution_count": 1,
      "outputs": []
    },
    {
      "cell_type": "code",
      "metadata": {
        "colab": {
          "base_uri": "https://localhost:8080/"
        },
        "id": "2AGGJg6MW9kw",
        "outputId": "1b5433bb-1127-4200-de52-8b199238b40a"
      },
      "source": [
        "pip install finance-datareader"
      ],
      "execution_count": 2,
      "outputs": [
        {
          "output_type": "stream",
          "text": [
            "Collecting finance-datareader\n",
            "  Downloading https://files.pythonhosted.org/packages/ed/b5/bab9072610a2721b37b07cbf9e01aa761c8da1fd82c43016f3ff14fd0d62/finance_datareader-0.9.20-py3-none-any.whl\n",
            "Collecting requests-file\n",
            "  Downloading https://files.pythonhosted.org/packages/77/86/cdb5e8eaed90796aa83a6d9f75cfbd37af553c47a291cd47bc410ef9bdb2/requests_file-1.5.1-py2.py3-none-any.whl\n",
            "Requirement already satisfied: tqdm in /usr/local/lib/python3.6/dist-packages (from finance-datareader) (4.41.1)\n",
            "Requirement already satisfied: pandas>=0.19.2 in /usr/local/lib/python3.6/dist-packages (from finance-datareader) (1.1.5)\n",
            "Requirement already satisfied: requests>=2.3.0 in /usr/local/lib/python3.6/dist-packages (from finance-datareader) (2.23.0)\n",
            "Requirement already satisfied: lxml in /usr/local/lib/python3.6/dist-packages (from finance-datareader) (4.2.6)\n",
            "Requirement already satisfied: six in /usr/local/lib/python3.6/dist-packages (from requests-file->finance-datareader) (1.15.0)\n",
            "Requirement already satisfied: python-dateutil>=2.7.3 in /usr/local/lib/python3.6/dist-packages (from pandas>=0.19.2->finance-datareader) (2.8.1)\n",
            "Requirement already satisfied: pytz>=2017.2 in /usr/local/lib/python3.6/dist-packages (from pandas>=0.19.2->finance-datareader) (2018.9)\n",
            "Requirement already satisfied: numpy>=1.15.4 in /usr/local/lib/python3.6/dist-packages (from pandas>=0.19.2->finance-datareader) (1.19.5)\n",
            "Requirement already satisfied: certifi>=2017.4.17 in /usr/local/lib/python3.6/dist-packages (from requests>=2.3.0->finance-datareader) (2020.12.5)\n",
            "Requirement already satisfied: chardet<4,>=3.0.2 in /usr/local/lib/python3.6/dist-packages (from requests>=2.3.0->finance-datareader) (3.0.4)\n",
            "Requirement already satisfied: urllib3!=1.25.0,!=1.25.1,<1.26,>=1.21.1 in /usr/local/lib/python3.6/dist-packages (from requests>=2.3.0->finance-datareader) (1.24.3)\n",
            "Requirement already satisfied: idna<3,>=2.5 in /usr/local/lib/python3.6/dist-packages (from requests>=2.3.0->finance-datareader) (2.10)\n",
            "Installing collected packages: requests-file, finance-datareader\n",
            "Successfully installed finance-datareader-0.9.20 requests-file-1.5.1\n"
          ],
          "name": "stdout"
        }
      ]
    },
    {
      "cell_type": "code",
      "metadata": {
        "id": "aNOVkh2xXqVq"
      },
      "source": [
        "import FinanceDataReader as fdr"
      ],
      "execution_count": 3,
      "outputs": []
    },
    {
      "cell_type": "code",
      "metadata": {
        "id": "VfDVtgU_XuX7"
      },
      "source": [
        "galaxy_stock = fdr.DataReader('005930')"
      ],
      "execution_count": 4,
      "outputs": []
    },
    {
      "cell_type": "code",
      "metadata": {
        "colab": {
          "base_uri": "https://localhost:8080/",
          "height": 431
        },
        "id": "Op2BqSL3X3Ee",
        "outputId": "90ab8bea-1ba3-495f-de1a-1f01ebae1369"
      },
      "source": [
        "galaxy_stock.head(len(galaxy_stock))"
      ],
      "execution_count": 5,
      "outputs": [
        {
          "output_type": "execute_result",
          "data": {
            "text/html": [
              "<div>\n",
              "<style scoped>\n",
              "    .dataframe tbody tr th:only-of-type {\n",
              "        vertical-align: middle;\n",
              "    }\n",
              "\n",
              "    .dataframe tbody tr th {\n",
              "        vertical-align: top;\n",
              "    }\n",
              "\n",
              "    .dataframe thead th {\n",
              "        text-align: right;\n",
              "    }\n",
              "</style>\n",
              "<table border=\"1\" class=\"dataframe\">\n",
              "  <thead>\n",
              "    <tr style=\"text-align: right;\">\n",
              "      <th></th>\n",
              "      <th>Open</th>\n",
              "      <th>High</th>\n",
              "      <th>Low</th>\n",
              "      <th>Close</th>\n",
              "      <th>Volume</th>\n",
              "      <th>Change</th>\n",
              "    </tr>\n",
              "    <tr>\n",
              "      <th>Date</th>\n",
              "      <th></th>\n",
              "      <th></th>\n",
              "      <th></th>\n",
              "      <th></th>\n",
              "      <th></th>\n",
              "      <th></th>\n",
              "    </tr>\n",
              "  </thead>\n",
              "  <tbody>\n",
              "    <tr>\n",
              "      <th>1997-02-22</th>\n",
              "      <td>933</td>\n",
              "      <td>969</td>\n",
              "      <td>916</td>\n",
              "      <td>966</td>\n",
              "      <td>124900</td>\n",
              "      <td>NaN</td>\n",
              "    </tr>\n",
              "    <tr>\n",
              "      <th>1997-02-24</th>\n",
              "      <td>974</td>\n",
              "      <td>990</td>\n",
              "      <td>951</td>\n",
              "      <td>957</td>\n",
              "      <td>81070</td>\n",
              "      <td>-0.009317</td>\n",
              "    </tr>\n",
              "    <tr>\n",
              "      <th>1997-02-25</th>\n",
              "      <td>969</td>\n",
              "      <td>1022</td>\n",
              "      <td>948</td>\n",
              "      <td>1014</td>\n",
              "      <td>109130</td>\n",
              "      <td>0.059561</td>\n",
              "    </tr>\n",
              "    <tr>\n",
              "      <th>1997-02-26</th>\n",
              "      <td>1013</td>\n",
              "      <td>1065</td>\n",
              "      <td>1006</td>\n",
              "      <td>1017</td>\n",
              "      <td>227060</td>\n",
              "      <td>0.002959</td>\n",
              "    </tr>\n",
              "    <tr>\n",
              "      <th>1997-02-27</th>\n",
              "      <td>1017</td>\n",
              "      <td>1031</td>\n",
              "      <td>999</td>\n",
              "      <td>1019</td>\n",
              "      <td>81090</td>\n",
              "      <td>0.001967</td>\n",
              "    </tr>\n",
              "    <tr>\n",
              "      <th>...</th>\n",
              "      <td>...</td>\n",
              "      <td>...</td>\n",
              "      <td>...</td>\n",
              "      <td>...</td>\n",
              "      <td>...</td>\n",
              "      <td>...</td>\n",
              "    </tr>\n",
              "    <tr>\n",
              "      <th>2021-01-29</th>\n",
              "      <td>84500</td>\n",
              "      <td>85000</td>\n",
              "      <td>82000</td>\n",
              "      <td>82000</td>\n",
              "      <td>39615978</td>\n",
              "      <td>-0.020311</td>\n",
              "    </tr>\n",
              "    <tr>\n",
              "      <th>2021-02-01</th>\n",
              "      <td>81700</td>\n",
              "      <td>83400</td>\n",
              "      <td>81000</td>\n",
              "      <td>83000</td>\n",
              "      <td>28046832</td>\n",
              "      <td>0.012195</td>\n",
              "    </tr>\n",
              "    <tr>\n",
              "      <th>2021-02-02</th>\n",
              "      <td>84100</td>\n",
              "      <td>86400</td>\n",
              "      <td>83700</td>\n",
              "      <td>84400</td>\n",
              "      <td>26302077</td>\n",
              "      <td>0.016867</td>\n",
              "    </tr>\n",
              "    <tr>\n",
              "      <th>2021-02-03</th>\n",
              "      <td>84800</td>\n",
              "      <td>85400</td>\n",
              "      <td>83400</td>\n",
              "      <td>84600</td>\n",
              "      <td>22112205</td>\n",
              "      <td>0.002370</td>\n",
              "    </tr>\n",
              "    <tr>\n",
              "      <th>2021-02-04</th>\n",
              "      <td>83500</td>\n",
              "      <td>83800</td>\n",
              "      <td>82500</td>\n",
              "      <td>82900</td>\n",
              "      <td>10729026</td>\n",
              "      <td>-0.020095</td>\n",
              "    </tr>\n",
              "  </tbody>\n",
              "</table>\n",
              "<p>6000 rows × 6 columns</p>\n",
              "</div>"
            ],
            "text/plain": [
              "             Open   High    Low  Close    Volume    Change\n",
              "Date                                                      \n",
              "1997-02-22    933    969    916    966    124900       NaN\n",
              "1997-02-24    974    990    951    957     81070 -0.009317\n",
              "1997-02-25    969   1022    948   1014    109130  0.059561\n",
              "1997-02-26   1013   1065   1006   1017    227060  0.002959\n",
              "1997-02-27   1017   1031    999   1019     81090  0.001967\n",
              "...           ...    ...    ...    ...       ...       ...\n",
              "2021-01-29  84500  85000  82000  82000  39615978 -0.020311\n",
              "2021-02-01  81700  83400  81000  83000  28046832  0.012195\n",
              "2021-02-02  84100  86400  83700  84400  26302077  0.016867\n",
              "2021-02-03  84800  85400  83400  84600  22112205  0.002370\n",
              "2021-02-04  83500  83800  82500  82900  10729026 -0.020095\n",
              "\n",
              "[6000 rows x 6 columns]"
            ]
          },
          "metadata": {
            "tags": []
          },
          "execution_count": 5
        }
      ]
    },
    {
      "cell_type": "code",
      "metadata": {
        "colab": {
          "base_uri": "https://localhost:8080/"
        },
        "id": "W8bz2d7H-CFy",
        "outputId": "8536da75-00dd-4e4b-ffb6-02777723a44a"
      },
      "source": [
        "galaxy_stock.index[4800]"
      ],
      "execution_count": 43,
      "outputs": [
        {
          "output_type": "execute_result",
          "data": {
            "text/plain": [
              "Timestamp('2016-03-21 00:00:00')"
            ]
          },
          "metadata": {
            "tags": []
          },
          "execution_count": 43
        }
      ]
    },
    {
      "cell_type": "code",
      "metadata": {
        "colab": {
          "base_uri": "https://localhost:8080/"
        },
        "id": "jaQAGZi0X5hg",
        "outputId": "46006305-44c9-4cae-8a3d-83eb4505ade6"
      },
      "source": [
        "# open: 시가 / high: 고가 / low: 저가 / close: 종가 / volume: 거래량 / change: 대비\r\n",
        "# 시계열 데이터, 날짜 순으로 정렬되어 있음\r\n",
        "print(galaxy_stock.index)"
      ],
      "execution_count": 6,
      "outputs": [
        {
          "output_type": "stream",
          "text": [
            "DatetimeIndex(['1997-02-22', '1997-02-24', '1997-02-25', '1997-02-26',\n",
            "               '1997-02-27', '1997-02-28', '1997-03-03', '1997-03-04',\n",
            "               '1997-03-05', '1997-03-06',\n",
            "               ...\n",
            "               '2021-01-22', '2021-01-25', '2021-01-26', '2021-01-27',\n",
            "               '2021-01-28', '2021-01-29', '2021-02-01', '2021-02-02',\n",
            "               '2021-02-03', '2021-02-04'],\n",
            "              dtype='datetime64[ns]', name='Date', length=6000, freq=None)\n"
          ],
          "name": "stdout"
        }
      ]
    },
    {
      "cell_type": "code",
      "metadata": {
        "colab": {
          "base_uri": "https://localhost:8080/",
          "height": 569
        },
        "id": "iuijemPgYIzB",
        "outputId": "0db503ac-41fd-410b-851d-f0adfa390071"
      },
      "source": [
        "plt.figure(figsize=(16, 9))\r\n",
        "sns.lineplot(y=galaxy_stock['Close'], x=galaxy_stock.index)\r\n",
        "plt.xlabel('time')\r\n",
        "plt.ylabel('price')"
      ],
      "execution_count": 7,
      "outputs": [
        {
          "output_type": "execute_result",
          "data": {
            "text/plain": [
              "Text(0, 0.5, 'price')"
            ]
          },
          "metadata": {
            "tags": []
          },
          "execution_count": 7
        },
        {
          "output_type": "display_data",
          "data": {
            "image/png": "[encoded data removed]",
            "text/plain": [
              "<Figure size 1152x648 with 1 Axes>"
            ]
          },
          "metadata": {
            "tags": [],
            "needs_background": "light"
          }
        }
      ]
    },
    {
      "cell_type": "code",
      "metadata": {
        "colab": {
          "base_uri": "https://localhost:8080/"
        },
        "id": "7nCmaZEMa542",
        "outputId": "1fd9efab-e9d5-4db5-efe7-5d341f98b3a9"
      },
      "source": [
        "galaxy_stock.columns"
      ],
      "execution_count": 8,
      "outputs": [
        {
          "output_type": "execute_result",
          "data": {
            "text/plain": [
              "Index(['Open', 'High', 'Low', 'Close', 'Volume', 'Change'], dtype='object')"
            ]
          },
          "metadata": {
            "tags": []
          },
          "execution_count": 8
        }
      ]
    },
    {
      "cell_type": "code",
      "metadata": {
        "id": "tfsx8p7fYXIk"
      },
      "source": [
        "# 정규화 + 표준화\r\n",
        "\r\n",
        "from sklearn.preprocessing import MinMaxScaler\r\n",
        "\r\n",
        "MMscaler = MinMaxScaler()\r\n",
        "column = galaxy_stock.columns\r\n",
        "scaled_stock = MMscaler.fit_transform(galaxy_stock[column])\r\n"
      ],
      "execution_count": 9,
      "outputs": []
    },
    {
      "cell_type": "code",
      "metadata": {
        "colab": {
          "base_uri": "https://localhost:8080/"
        },
        "id": "SESv2O0cbsQ_",
        "outputId": "0ea50cb2-2551-4da1-8857-37989df61dea"
      },
      "source": [
        "scaled_stock"
      ],
      "execution_count": 10,
      "outputs": [
        {
          "output_type": "execute_result",
          "data": {
            "text/plain": [
              "array([[1.03322259e-02, 1.00103306e-02, 1.02346369e-02, 3.75112036e-03,\n",
              "        1.38307261e-03,            nan],\n",
              "       [1.07862680e-02, 1.02272727e-02, 1.06256983e-02, 3.65153309e-03,\n",
              "        8.97723751e-04, 4.45982161e-01],\n",
              "       [1.07308970e-02, 1.05578512e-02, 1.05921788e-02, 4.28225244e-03,\n",
              "        1.20844447e-03, 6.85502360e-01],\n",
              "       ...,\n",
              "       [9.31339978e-01, 8.92561983e-01, 9.35195531e-01, 9.26969338e-01,\n",
              "        2.91254462e-01, 5.37036832e-01],\n",
              "       [9.39091916e-01, 8.82231405e-01, 9.31843575e-01, 9.29182389e-01,\n",
              "        2.44858167e-01, 4.86621293e-01],\n",
              "       [9.24695460e-01, 8.65702479e-01, 9.21787709e-01, 9.10371461e-01,\n",
              "        1.18807222e-01, 4.08502809e-01]])"
            ]
          },
          "metadata": {
            "tags": []
          },
          "execution_count": 10
        }
      ]
    },
    {
      "cell_type": "code",
      "metadata": {
        "colab": {
          "base_uri": "https://localhost:8080/",
          "height": 402
        },
        "id": "LQ_HmmIicCem",
        "outputId": "fd1e9912-ec07-4d8b-c9de-676df7b84c6f"
      },
      "source": [
        "gal_stock_used = pd.DataFrame(scaled_stock, columns = column)\r\n",
        "gal_stock_used"
      ],
      "execution_count": 11,
      "outputs": [
        {
          "output_type": "execute_result",
          "data": {
            "text/html": [
              "<div>\n",
              "<style scoped>\n",
              "    .dataframe tbody tr th:only-of-type {\n",
              "        vertical-align: middle;\n",
              "    }\n",
              "\n",
              "    .dataframe tbody tr th {\n",
              "        vertical-align: top;\n",
              "    }\n",
              "\n",
              "    .dataframe thead th {\n",
              "        text-align: right;\n",
              "    }\n",
              "</style>\n",
              "<table border=\"1\" class=\"dataframe\">\n",
              "  <thead>\n",
              "    <tr style=\"text-align: right;\">\n",
              "      <th></th>\n",
              "      <th>Open</th>\n",
              "      <th>High</th>\n",
              "      <th>Low</th>\n",
              "      <th>Close</th>\n",
              "      <th>Volume</th>\n",
              "      <th>Change</th>\n",
              "    </tr>\n",
              "  </thead>\n",
              "  <tbody>\n",
              "    <tr>\n",
              "      <th>0</th>\n",
              "      <td>0.010332</td>\n",
              "      <td>0.010010</td>\n",
              "      <td>0.010235</td>\n",
              "      <td>0.003751</td>\n",
              "      <td>0.001383</td>\n",
              "      <td>NaN</td>\n",
              "    </tr>\n",
              "    <tr>\n",
              "      <th>1</th>\n",
              "      <td>0.010786</td>\n",
              "      <td>0.010227</td>\n",
              "      <td>0.010626</td>\n",
              "      <td>0.003652</td>\n",
              "      <td>0.000898</td>\n",
              "      <td>0.445982</td>\n",
              "    </tr>\n",
              "    <tr>\n",
              "      <th>2</th>\n",
              "      <td>0.010731</td>\n",
              "      <td>0.010558</td>\n",
              "      <td>0.010592</td>\n",
              "      <td>0.004282</td>\n",
              "      <td>0.001208</td>\n",
              "      <td>0.685502</td>\n",
              "    </tr>\n",
              "    <tr>\n",
              "      <th>3</th>\n",
              "      <td>0.011218</td>\n",
              "      <td>0.011002</td>\n",
              "      <td>0.011240</td>\n",
              "      <td>0.004315</td>\n",
              "      <td>0.002514</td>\n",
              "      <td>0.488669</td>\n",
              "    </tr>\n",
              "    <tr>\n",
              "      <th>4</th>\n",
              "      <td>0.011262</td>\n",
              "      <td>0.010651</td>\n",
              "      <td>0.011162</td>\n",
              "      <td>0.004338</td>\n",
              "      <td>0.000898</td>\n",
              "      <td>0.485220</td>\n",
              "    </tr>\n",
              "    <tr>\n",
              "      <th>...</th>\n",
              "      <td>...</td>\n",
              "      <td>...</td>\n",
              "      <td>...</td>\n",
              "      <td>...</td>\n",
              "      <td>...</td>\n",
              "      <td>...</td>\n",
              "    </tr>\n",
              "    <tr>\n",
              "      <th>5995</th>\n",
              "      <td>0.935770</td>\n",
              "      <td>0.878099</td>\n",
              "      <td>0.916201</td>\n",
              "      <td>0.900413</td>\n",
              "      <td>0.438685</td>\n",
              "      <td>0.407751</td>\n",
              "    </tr>\n",
              "    <tr>\n",
              "      <th>5996</th>\n",
              "      <td>0.904762</td>\n",
              "      <td>0.861570</td>\n",
              "      <td>0.905028</td>\n",
              "      <td>0.911478</td>\n",
              "      <td>0.310575</td>\n",
              "      <td>0.520789</td>\n",
              "    </tr>\n",
              "    <tr>\n",
              "      <th>5997</th>\n",
              "      <td>0.931340</td>\n",
              "      <td>0.892562</td>\n",
              "      <td>0.935196</td>\n",
              "      <td>0.926969</td>\n",
              "      <td>0.291254</td>\n",
              "      <td>0.537037</td>\n",
              "    </tr>\n",
              "    <tr>\n",
              "      <th>5998</th>\n",
              "      <td>0.939092</td>\n",
              "      <td>0.882231</td>\n",
              "      <td>0.931844</td>\n",
              "      <td>0.929182</td>\n",
              "      <td>0.244858</td>\n",
              "      <td>0.486621</td>\n",
              "    </tr>\n",
              "    <tr>\n",
              "      <th>5999</th>\n",
              "      <td>0.924695</td>\n",
              "      <td>0.865702</td>\n",
              "      <td>0.921788</td>\n",
              "      <td>0.910371</td>\n",
              "      <td>0.118807</td>\n",
              "      <td>0.408503</td>\n",
              "    </tr>\n",
              "  </tbody>\n",
              "</table>\n",
              "<p>6000 rows × 6 columns</p>\n",
              "</div>"
            ],
            "text/plain": [
              "          Open      High       Low     Close    Volume    Change\n",
              "0     0.010332  0.010010  0.010235  0.003751  0.001383       NaN\n",
              "1     0.010786  0.010227  0.010626  0.003652  0.000898  0.445982\n",
              "2     0.010731  0.010558  0.010592  0.004282  0.001208  0.685502\n",
              "3     0.011218  0.011002  0.011240  0.004315  0.002514  0.488669\n",
              "4     0.011262  0.010651  0.011162  0.004338  0.000898  0.485220\n",
              "...        ...       ...       ...       ...       ...       ...\n",
              "5995  0.935770  0.878099  0.916201  0.900413  0.438685  0.407751\n",
              "5996  0.904762  0.861570  0.905028  0.911478  0.310575  0.520789\n",
              "5997  0.931340  0.892562  0.935196  0.926969  0.291254  0.537037\n",
              "5998  0.939092  0.882231  0.931844  0.929182  0.244858  0.486621\n",
              "5999  0.924695  0.865702  0.921788  0.910371  0.118807  0.408503\n",
              "\n",
              "[6000 rows x 6 columns]"
            ]
          },
          "metadata": {
            "tags": []
          },
          "execution_count": 11
        }
      ]
    },
    {
      "cell_type": "code",
      "metadata": {
        "id": "cgomwbYCcWbA"
      },
      "source": [
        "x_train, x_test, y_train, y_test = train_test_split(gal_stock_used.drop('Close', 1), gal_stock_used['Close'], test_size=0.2, random_state=0, shuffle=False)"
      ],
      "execution_count": 12,
      "outputs": []
    },
    {
      "cell_type": "code",
      "metadata": {
        "colab": {
          "base_uri": "https://localhost:8080/",
          "height": 402
        },
        "id": "amTSsDj0dHdE",
        "outputId": "87d1d954-b7b3-4144-c04e-24d1fa6a7418"
      },
      "source": [
        "x_train"
      ],
      "execution_count": 13,
      "outputs": [
        {
          "output_type": "execute_result",
          "data": {
            "text/html": [
              "<div>\n",
              "<style scoped>\n",
              "    .dataframe tbody tr th:only-of-type {\n",
              "        vertical-align: middle;\n",
              "    }\n",
              "\n",
              "    .dataframe tbody tr th {\n",
              "        vertical-align: top;\n",
              "    }\n",
              "\n",
              "    .dataframe thead th {\n",
              "        text-align: right;\n",
              "    }\n",
              "</style>\n",
              "<table border=\"1\" class=\"dataframe\">\n",
              "  <thead>\n",
              "    <tr style=\"text-align: right;\">\n",
              "      <th></th>\n",
              "      <th>Open</th>\n",
              "      <th>High</th>\n",
              "      <th>Low</th>\n",
              "      <th>Volume</th>\n",
              "      <th>Change</th>\n",
              "    </tr>\n",
              "  </thead>\n",
              "  <tbody>\n",
              "    <tr>\n",
              "      <th>0</th>\n",
              "      <td>0.010332</td>\n",
              "      <td>0.010010</td>\n",
              "      <td>0.010235</td>\n",
              "      <td>0.001383</td>\n",
              "      <td>NaN</td>\n",
              "    </tr>\n",
              "    <tr>\n",
              "      <th>1</th>\n",
              "      <td>0.010786</td>\n",
              "      <td>0.010227</td>\n",
              "      <td>0.010626</td>\n",
              "      <td>0.000898</td>\n",
              "      <td>0.445982</td>\n",
              "    </tr>\n",
              "    <tr>\n",
              "      <th>2</th>\n",
              "      <td>0.010731</td>\n",
              "      <td>0.010558</td>\n",
              "      <td>0.010592</td>\n",
              "      <td>0.001208</td>\n",
              "      <td>0.685502</td>\n",
              "    </tr>\n",
              "    <tr>\n",
              "      <th>3</th>\n",
              "      <td>0.011218</td>\n",
              "      <td>0.011002</td>\n",
              "      <td>0.011240</td>\n",
              "      <td>0.002514</td>\n",
              "      <td>0.488669</td>\n",
              "    </tr>\n",
              "    <tr>\n",
              "      <th>4</th>\n",
              "      <td>0.011262</td>\n",
              "      <td>0.010651</td>\n",
              "      <td>0.011162</td>\n",
              "      <td>0.000898</td>\n",
              "      <td>0.485220</td>\n",
              "    </tr>\n",
              "    <tr>\n",
              "      <th>...</th>\n",
              "      <td>...</td>\n",
              "      <td>...</td>\n",
              "      <td>...</td>\n",
              "      <td>...</td>\n",
              "      <td>...</td>\n",
              "    </tr>\n",
              "    <tr>\n",
              "      <th>4795</th>\n",
              "      <td>0.280620</td>\n",
              "      <td>0.263017</td>\n",
              "      <td>0.279106</td>\n",
              "      <td>0.002405</td>\n",
              "      <td>0.495086</td>\n",
              "    </tr>\n",
              "    <tr>\n",
              "      <th>4796</th>\n",
              "      <td>0.277962</td>\n",
              "      <td>0.261157</td>\n",
              "      <td>0.278436</td>\n",
              "      <td>0.001914</td>\n",
              "      <td>0.472839</td>\n",
              "    </tr>\n",
              "    <tr>\n",
              "      <th>4797</th>\n",
              "      <td>0.278184</td>\n",
              "      <td>0.260950</td>\n",
              "      <td>0.280000</td>\n",
              "      <td>0.001626</td>\n",
              "      <td>0.486707</td>\n",
              "    </tr>\n",
              "    <tr>\n",
              "      <th>4798</th>\n",
              "      <td>0.280177</td>\n",
              "      <td>0.267769</td>\n",
              "      <td>0.280894</td>\n",
              "      <td>0.002734</td>\n",
              "      <td>0.497762</td>\n",
              "    </tr>\n",
              "    <tr>\n",
              "      <th>4799</th>\n",
              "      <td>0.283056</td>\n",
              "      <td>0.264050</td>\n",
              "      <td>0.282235</td>\n",
              "      <td>0.002495</td>\n",
              "      <td>0.505914</td>\n",
              "    </tr>\n",
              "  </tbody>\n",
              "</table>\n",
              "<p>4800 rows × 5 columns</p>\n",
              "</div>"
            ],
            "text/plain": [
              "          Open      High       Low    Volume    Change\n",
              "0     0.010332  0.010010  0.010235  0.001383       NaN\n",
              "1     0.010786  0.010227  0.010626  0.000898  0.445982\n",
              "2     0.010731  0.010558  0.010592  0.001208  0.685502\n",
              "3     0.011218  0.011002  0.011240  0.002514  0.488669\n",
              "4     0.011262  0.010651  0.011162  0.000898  0.485220\n",
              "...        ...       ...       ...       ...       ...\n",
              "4795  0.280620  0.263017  0.279106  0.002405  0.495086\n",
              "4796  0.277962  0.261157  0.278436  0.001914  0.472839\n",
              "4797  0.278184  0.260950  0.280000  0.001626  0.486707\n",
              "4798  0.280177  0.267769  0.280894  0.002734  0.497762\n",
              "4799  0.283056  0.264050  0.282235  0.002495  0.505914\n",
              "\n",
              "[4800 rows x 5 columns]"
            ]
          },
          "metadata": {
            "tags": []
          },
          "execution_count": 13
        }
      ]
    },
    {
      "cell_type": "code",
      "metadata": {
        "colab": {
          "base_uri": "https://localhost:8080/",
          "height": 402
        },
        "id": "zwrlIhg39f3E",
        "outputId": "aa52ba80-4498-4a8b-90a6-0d7735060c14"
      },
      "source": [
        "x_test"
      ],
      "execution_count": 35,
      "outputs": [
        {
          "output_type": "execute_result",
          "data": {
            "text/html": [
              "<div>\n",
              "<style scoped>\n",
              "    .dataframe tbody tr th:only-of-type {\n",
              "        vertical-align: middle;\n",
              "    }\n",
              "\n",
              "    .dataframe tbody tr th {\n",
              "        vertical-align: top;\n",
              "    }\n",
              "\n",
              "    .dataframe thead th {\n",
              "        text-align: right;\n",
              "    }\n",
              "</style>\n",
              "<table border=\"1\" class=\"dataframe\">\n",
              "  <thead>\n",
              "    <tr style=\"text-align: right;\">\n",
              "      <th></th>\n",
              "      <th>Open</th>\n",
              "      <th>High</th>\n",
              "      <th>Low</th>\n",
              "      <th>Volume</th>\n",
              "      <th>Change</th>\n",
              "    </tr>\n",
              "  </thead>\n",
              "  <tbody>\n",
              "    <tr>\n",
              "      <th>4800</th>\n",
              "      <td>0.282171</td>\n",
              "      <td>0.264256</td>\n",
              "      <td>0.281117</td>\n",
              "      <td>0.002006</td>\n",
              "      <td>0.461991</td>\n",
              "    </tr>\n",
              "    <tr>\n",
              "      <th>4801</th>\n",
              "      <td>0.280620</td>\n",
              "      <td>0.264256</td>\n",
              "      <td>0.282011</td>\n",
              "      <td>0.002246</td>\n",
              "      <td>0.483870</td>\n",
              "    </tr>\n",
              "    <tr>\n",
              "      <th>4802</th>\n",
              "      <td>0.281063</td>\n",
              "      <td>0.264256</td>\n",
              "      <td>0.282011</td>\n",
              "      <td>0.002186</td>\n",
              "      <td>0.505784</td>\n",
              "    </tr>\n",
              "    <tr>\n",
              "      <th>4803</th>\n",
              "      <td>0.283278</td>\n",
              "      <td>0.266529</td>\n",
              "      <td>0.282905</td>\n",
              "      <td>0.002423</td>\n",
              "      <td>0.486538</td>\n",
              "    </tr>\n",
              "    <tr>\n",
              "      <th>4804</th>\n",
              "      <td>0.284164</td>\n",
              "      <td>0.266529</td>\n",
              "      <td>0.285587</td>\n",
              "      <td>0.001588</td>\n",
              "      <td>0.494656</td>\n",
              "    </tr>\n",
              "    <tr>\n",
              "      <th>...</th>\n",
              "      <td>...</td>\n",
              "      <td>...</td>\n",
              "      <td>...</td>\n",
              "      <td>...</td>\n",
              "      <td>...</td>\n",
              "    </tr>\n",
              "    <tr>\n",
              "      <th>5995</th>\n",
              "      <td>0.935770</td>\n",
              "      <td>0.878099</td>\n",
              "      <td>0.916201</td>\n",
              "      <td>0.438685</td>\n",
              "      <td>0.407751</td>\n",
              "    </tr>\n",
              "    <tr>\n",
              "      <th>5996</th>\n",
              "      <td>0.904762</td>\n",
              "      <td>0.861570</td>\n",
              "      <td>0.905028</td>\n",
              "      <td>0.310575</td>\n",
              "      <td>0.520789</td>\n",
              "    </tr>\n",
              "    <tr>\n",
              "      <th>5997</th>\n",
              "      <td>0.931340</td>\n",
              "      <td>0.892562</td>\n",
              "      <td>0.935196</td>\n",
              "      <td>0.291254</td>\n",
              "      <td>0.537037</td>\n",
              "    </tr>\n",
              "    <tr>\n",
              "      <th>5998</th>\n",
              "      <td>0.939092</td>\n",
              "      <td>0.882231</td>\n",
              "      <td>0.931844</td>\n",
              "      <td>0.244858</td>\n",
              "      <td>0.486621</td>\n",
              "    </tr>\n",
              "    <tr>\n",
              "      <th>5999</th>\n",
              "      <td>0.924695</td>\n",
              "      <td>0.865702</td>\n",
              "      <td>0.921788</td>\n",
              "      <td>0.118807</td>\n",
              "      <td>0.408503</td>\n",
              "    </tr>\n",
              "  </tbody>\n",
              "</table>\n",
              "<p>1200 rows × 5 columns</p>\n",
              "</div>"
            ],
            "text/plain": [
              "          Open      High       Low    Volume    Change\n",
              "4800  0.282171  0.264256  0.281117  0.002006  0.461991\n",
              "4801  0.280620  0.264256  0.282011  0.002246  0.483870\n",
              "4802  0.281063  0.264256  0.282011  0.002186  0.505784\n",
              "4803  0.283278  0.266529  0.282905  0.002423  0.486538\n",
              "4804  0.284164  0.266529  0.285587  0.001588  0.494656\n",
              "...        ...       ...       ...       ...       ...\n",
              "5995  0.935770  0.878099  0.916201  0.438685  0.407751\n",
              "5996  0.904762  0.861570  0.905028  0.310575  0.520789\n",
              "5997  0.931340  0.892562  0.935196  0.291254  0.537037\n",
              "5998  0.939092  0.882231  0.931844  0.244858  0.486621\n",
              "5999  0.924695  0.865702  0.921788  0.118807  0.408503\n",
              "\n",
              "[1200 rows x 5 columns]"
            ]
          },
          "metadata": {
            "tags": []
          },
          "execution_count": 35
        }
      ]
    },
    {
      "cell_type": "code",
      "metadata": {
        "id": "hq3_qWNVdJvQ"
      },
      "source": [
        "# rnn 용 전처리!\r\n",
        "\r\n",
        "def samsung_time_sequence(series, window_size, batch_size):\r\n",
        "    series = tf.expand_dims(series, axis=-1)  # 축 추가\r\n",
        "    ds = tf.data.Dataset.from_tensor_slices(series)  # list 형식으로 전달\r\n",
        "    ds = ds.window(window_size + 1, shift=1, drop_remainder=True) # 전체 데이터셋을 시퀀스로 만듦\r\n",
        "    ds = ds.flat_map(lambda w: w.batch(window_size + 1))\r\n",
        "    ds = ds.map(lambda w: (w[:-1], w[-1]))\r\n",
        "    return ds.batch(batch_size).prefetch(1)"
      ],
      "execution_count": 14,
      "outputs": []
    },
    {
      "cell_type": "code",
      "metadata": {
        "id": "Aynqn_pz3nuB"
      },
      "source": [
        "train_data = samsung_time_sequence(y_train, 20, 32)\r\n",
        "test_data = samsung_time_sequence(y_test, 20, 32)"
      ],
      "execution_count": 17,
      "outputs": []
    },
    {
      "cell_type": "code",
      "metadata": {
        "colab": {
          "base_uri": "https://localhost:8080/"
        },
        "id": "sA_u0aAb3vZb",
        "outputId": "c8ca56e6-74fd-42ba-cedd-b9b29a602ea7"
      },
      "source": [
        "train_data"
      ],
      "execution_count": 18,
      "outputs": [
        {
          "output_type": "execute_result",
          "data": {
            "text/plain": [
              "<PrefetchDataset shapes: ((None, None, 1), (None, 1)), types: (tf.float64, tf.float64)>"
            ]
          },
          "metadata": {
            "tags": []
          },
          "execution_count": 18
        }
      ]
    },
    {
      "cell_type": "code",
      "metadata": {
        "colab": {
          "base_uri": "https://localhost:8080/",
          "height": 35
        },
        "id": "7RA_F2_Z3565",
        "outputId": "328c3d9f-bb13-4ab4-b1d7-d0111d01f033"
      },
      "source": [
        "from tensorflow.keras.models import Sequential\r\n",
        "from tensorflow.keras.layers import Dense, LSTM, RNN, Lambda, Conv1D\r\n",
        "from tensorflow.keras.losses import Huber\r\n",
        "from tensorflow.keras.optimizers import Adam\r\n",
        "from tensorflow.keras.callbacks import EarlyStopping, ModelCheckpoint\r\n",
        "\r\n",
        "model = Sequential([\r\n",
        "    # 1차원 feature map 생성\r\n",
        "    Conv1D(filters=32, kernel_size=5,\r\n",
        "           padding=\"causal\",\r\n",
        "           activation=\"relu\",\r\n",
        "           input_shape=[20, 1]),\r\n",
        "    # LSTM\r\n",
        "    LSTM(16, activation='tanh'),\r\n",
        "    Dense(16, activation=\"relu\"),\r\n",
        "    Dense(1),\r\n",
        "])\r\n",
        "\"\"\"\r\n"
      ],
      "execution_count": 30,
      "outputs": [
        {
          "output_type": "execute_result",
          "data": {
            "application/vnd.google.colaboratory.intrinsic+json": {
              "type": "string"
            },
            "text/plain": [
              "'\\nmodel = Sequential([\\n    LSTM(16, activation=\\'tanh\\', input_shape = [20, 1]),\\n    LSTM(16, activation=\\'tanh\\'),\\n    Dense(16, activation=\"relu\"),\\n    Dense(1),\\n])\\n'"
            ]
          },
          "metadata": {
            "tags": []
          },
          "execution_count": 30
        }
      ]
    },
    {
      "cell_type": "code",
      "metadata": {
        "id": "tlKIGq-a6kyf"
      },
      "source": [
        "loss = Huber()\r\n",
        "optimizer = Adam(0.0005)\r\n",
        "model.compile(loss=Huber(), optimizer=optimizer, metrics=['mse'])"
      ],
      "execution_count": 31,
      "outputs": []
    },
    {
      "cell_type": "code",
      "metadata": {
        "id": "IawBcZ6R8ST-"
      },
      "source": [
        "earlystopping = EarlyStopping(monitor='val_loss', patience=10)\r\n",
        "filename = os.path.join('tmp', 'ckeckpointer.ckpt')\r\n",
        "checkpoint = ModelCheckpoint(filename, \r\n",
        "                             save_weights_only=True, \r\n",
        "                             save_best_only=True, \r\n",
        "                             monitor='val_loss', \r\n",
        "                             verbose=1)"
      ],
      "execution_count": 32,
      "outputs": []
    },
    {
      "cell_type": "code",
      "metadata": {
        "colab": {
          "base_uri": "https://localhost:8080/"
        },
        "id": "LRQ_44KN8eST",
        "outputId": "48abee1b-1ddd-421a-cc3c-8366fbfbd310"
      },
      "source": [
        "history = model.fit(train_data, \r\n",
        "                    validation_data=(test_data), \r\n",
        "                    epochs=20, \r\n",
        "                    callbacks=[checkpoint, earlystopping])"
      ],
      "execution_count": 33,
      "outputs": [
        {
          "output_type": "stream",
          "text": [
            "Epoch 1/20\n",
            "150/150 [==============================] - 4s 16ms/step - loss: 7.5431e-05 - mse: 1.5086e-04 - val_loss: 0.0094 - val_mse: 0.0188\n",
            "\n",
            "Epoch 00001: val_loss improved from inf to 0.00939, saving model to tmp/ckeckpointer.ckpt\n",
            "Epoch 2/20\n",
            "150/150 [==============================] - 2s 12ms/step - loss: 8.1483e-04 - mse: 0.0016 - val_loss: 0.0077 - val_mse: 0.0154\n",
            "\n",
            "Epoch 00002: val_loss improved from 0.00939 to 0.00768, saving model to tmp/ckeckpointer.ckpt\n",
            "Epoch 3/20\n",
            "150/150 [==============================] - 2s 12ms/step - loss: 6.6771e-04 - mse: 0.0013 - val_loss: 0.0058 - val_mse: 0.0116\n",
            "\n",
            "Epoch 00003: val_loss improved from 0.00768 to 0.00582, saving model to tmp/ckeckpointer.ckpt\n",
            "Epoch 4/20\n",
            "150/150 [==============================] - 2s 12ms/step - loss: 1.6641e-04 - mse: 3.3282e-04 - val_loss: 0.0048 - val_mse: 0.0096\n",
            "\n",
            "Epoch 00004: val_loss improved from 0.00582 to 0.00480, saving model to tmp/ckeckpointer.ckpt\n",
            "Epoch 5/20\n",
            "150/150 [==============================] - 2s 13ms/step - loss: 3.8782e-05 - mse: 7.7563e-05 - val_loss: 0.0048 - val_mse: 0.0097\n",
            "\n",
            "Epoch 00005: val_loss did not improve from 0.00480\n",
            "Epoch 6/20\n",
            "150/150 [==============================] - 2s 11ms/step - loss: 1.0859e-05 - mse: 2.1718e-05 - val_loss: 0.0052 - val_mse: 0.0104\n",
            "\n",
            "Epoch 00006: val_loss did not improve from 0.00480\n",
            "Epoch 7/20\n",
            "150/150 [==============================] - 2s 12ms/step - loss: 1.0331e-05 - mse: 2.0662e-05 - val_loss: 0.0055 - val_mse: 0.0110\n",
            "\n",
            "Epoch 00007: val_loss did not improve from 0.00480\n",
            "Epoch 8/20\n",
            "150/150 [==============================] - 2s 11ms/step - loss: 1.1410e-05 - mse: 2.2820e-05 - val_loss: 0.0058 - val_mse: 0.0116\n",
            "\n",
            "Epoch 00008: val_loss did not improve from 0.00480\n",
            "Epoch 9/20\n",
            "150/150 [==============================] - 2s 12ms/step - loss: 1.2685e-05 - mse: 2.5370e-05 - val_loss: 0.0060 - val_mse: 0.0120\n",
            "\n",
            "Epoch 00009: val_loss did not improve from 0.00480\n",
            "Epoch 10/20\n",
            "150/150 [==============================] - 2s 12ms/step - loss: 1.4003e-05 - mse: 2.8005e-05 - val_loss: 0.0061 - val_mse: 0.0123\n",
            "\n",
            "Epoch 00010: val_loss did not improve from 0.00480\n",
            "Epoch 11/20\n",
            "150/150 [==============================] - 2s 13ms/step - loss: 1.3792e-05 - mse: 2.7583e-05 - val_loss: 0.0062 - val_mse: 0.0125\n",
            "\n",
            "Epoch 00011: val_loss did not improve from 0.00480\n",
            "Epoch 12/20\n",
            "150/150 [==============================] - 2s 12ms/step - loss: 1.6215e-05 - mse: 3.2429e-05 - val_loss: 0.0063 - val_mse: 0.0127\n",
            "\n",
            "Epoch 00012: val_loss did not improve from 0.00480\n",
            "Epoch 13/20\n",
            "150/150 [==============================] - 2s 12ms/step - loss: 1.5393e-05 - mse: 3.0785e-05 - val_loss: 0.0064 - val_mse: 0.0128\n",
            "\n",
            "Epoch 00013: val_loss did not improve from 0.00480\n",
            "Epoch 14/20\n",
            "150/150 [==============================] - 2s 12ms/step - loss: 1.5960e-05 - mse: 3.1921e-05 - val_loss: 0.0064 - val_mse: 0.0129\n",
            "\n",
            "Epoch 00014: val_loss did not improve from 0.00480\n"
          ],
          "name": "stdout"
        }
      ]
    },
    {
      "cell_type": "code",
      "metadata": {
        "colab": {
          "base_uri": "https://localhost:8080/",
          "height": 537
        },
        "id": "zPg11LBy8iZQ",
        "outputId": "f810c296-7a1a-4235-882e-0eb5bd25444a"
      },
      "source": [
        "model.load_weights(filename)\r\n",
        "pred = model.predict(test_data)\r\n",
        "plt.figure(figsize=(12, 9))\r\n",
        "plt.plot(np.asarray(y_test)[20:], label='actual')\r\n",
        "plt.plot(pred, label='prediction')\r\n",
        "plt.legend()\r\n",
        "plt.show()"
      ],
      "execution_count": 34,
      "outputs": [
        {
          "output_type": "display_data",
          "data": {
            "image/png": "[encoded data removed]",
            "text/plain": [
              "<Figure size 864x648 with 1 Axes>"
            ]
          },
          "metadata": {
            "tags": [],
            "needs_background": "light"
          }
        }
      ]
    },
    {
      "cell_type": "code",
      "metadata": {
        "colab": {
          "base_uri": "https://localhost:8080/",
          "height": 537
        },
        "id": "tTJEPqRk829P",
        "outputId": "e6e5dc4e-5f63-4860-ee58-02cd21a2c7f1"
      },
      "source": [
        "model.load_weights(filename)\r\n",
        "pred = model.predict(train_data)\r\n",
        "plt.figure(figsize=(12, 9))\r\n",
        "plt.plot(np.asarray(y_train)[20:], label='actual')\r\n",
        "plt.plot(pred, label='prediction')\r\n",
        "plt.legend()\r\n",
        "plt.show()"
      ],
      "execution_count": 36,
      "outputs": [
        {
          "output_type": "display_data",
          "data": {
            "image/png": "[encoded data removed]",
            "text/plain": [
              "<Figure size 864x648 with 1 Axes>"
            ]
          },
          "metadata": {
            "tags": [],
            "needs_background": "light"
          }
        }
      ]
    },
    {
      "cell_type": "code",
      "metadata": {
        "id": "SqM1H_Jd_8GR"
      },
      "source": [
        ""
      ],
      "execution_count": null,
      "outputs": []
    }
  ]
}